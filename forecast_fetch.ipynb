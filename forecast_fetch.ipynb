{
 "cells": [
  {
   "cell_type": "markdown",
   "metadata": {},
   "source": [
    "## Download Forecast episode for testing"
   ]
  },
  {
   "cell_type": "code",
   "execution_count": 1,
   "metadata": {},
   "outputs": [
    {
     "name": "stdout",
     "output_type": "stream",
     "text": [
      "Defaulting to user installation because normal site-packages is not writeable\n",
      "Requirement already satisfied: wget in /Users/kgorska/Library/Python/3.12/lib/python/site-packages (3.2)\n"
     ]
    }
   ],
   "source": [
    "!pip3 install wget"
   ]
  },
  {
   "cell_type": "code",
   "execution_count": 2,
   "metadata": {},
   "outputs": [],
   "source": [
    "import urllib.request\n",
    "import json\n",
    "import os\n",
    "import wget"
   ]
  },
  {
   "cell_type": "code",
   "execution_count": 3,
   "metadata": {},
   "outputs": [],
   "source": [
    "url = f\"http://corpora.aifdb.org/nodesets.php?shortname=forecast120\"\n",
    "with urllib.request.urlopen(url) as url:\n",
    "    nodesets = json.loads(url.read().decode())"
   ]
  },
  {
   "cell_type": "code",
   "execution_count": 4,
   "metadata": {},
   "outputs": [
    {
     "name": "stdout",
     "output_type": "stream",
     "text": [
      "\n",
      "Nodesets: [28006, 28010, 28011, 28004, 28005, 28007, 28009, 28013, 28014, 28012, 28015, 28016, 28017, 28018, 28019, 28020, 28022, 28023, 28024, 28025, 28026, 28027, 28028, 28029, 28030, 28031, 28032, 28033, 28034, 28037, 28038, 28039, 28040, 28041, 28051, 28052, 28053, 28054, 28055, 28057, 28056, 28058, 28059, 28062, 28061, 28064, 28060, 28065, 28066, 28067, 28063, 28068, 28069, 28070, 28071, 28072, 28073, 28075, 28076, 28077, 28079, 28080, 28081, 28082, 28083, 28084, 28085, 28087, 28088, 28089, 28097, 28098, 28103, 28104, 28105, 28106, 28107, 28109, 28110, 28112, 28113, 28114, 28115, 28116, 28119, 28118, 28117, 28122, 28123, 28126, 28128, 28130, 28131, 28132, 28133, 28135, 28137, 28140, 28141, 28142, 28149, 28152, 28154, 28155, 28161, 28162, 28163, 28170, 28222, 28223, 28224, 28225, 28226, 28227, 28228, 28229, 28230, 27982, 28008, 28036]\n",
      "----\n",
      "==========\n"
     ]
    }
   ],
   "source": [
    "base_dir = \"data/forecast_maps\"\n",
    "map_type = 'ova'\n",
    "shortname = \"forecast120\"\n",
    "\n",
    "dir_out = f\"{base_dir}\"\n",
    "\n",
    "if not os.path.exists(dir_out):\n",
    "    os.makedirs(dir_out)\n",
    "\n",
    "\n",
    "url = f\"http://corpora.aifdb.org/nodesets.php?shortname={shortname}\"\n",
    "with urllib.request.urlopen(url) as url:\n",
    "    data = json.loads(url.read().decode())\n",
    "map_list = data['nodeSets']\n",
    "print(f\"\\nNodesets:\", data['nodeSets'])\n",
    "missing = []\n",
    "\n",
    "for i, n in enumerate(data['nodeSets']):\n",
    "    # print(\"----\")\n",
    "    # print(f\"Checking for argmap at nodeset {n} (node {i+1}/{len(data['nodeSets'])})\")\n",
    "    filepath = f\"{dir_out}/{str(n)}.json\" #os.path.join(dir_out, f\"{str(n)}.json\")\n",
    "\n",
    "    # print(f\"Checking for file {filepath}\")\n",
    "    if os.path.exists(filepath):\n",
    "        pass\n",
    "        # print(\"Already downloaded!\")\n",
    "    else:\n",
    "        # print(\"File doesn't exist yet.\")\n",
    "        # fileurl = url_base + n\n",
    "        if map_type == 'ova':\n",
    "            fileurl = f\"http://ova.arg.tech/db/{n}\"\n",
    "            # print(f\"\\nGetting OVA-friendly file\", end='')\n",
    "        else:\n",
    "            fileurl = f\"http://www.aifdb.org/json/{n}\"\n",
    "            # print(f\"\\nGetting json file at {fileurl}\",  end='')\n",
    "\n",
    "        # print(f\" Getting url {fileurl}... \")\n",
    "        try:\n",
    "            wget.download(fileurl, filepath)\n",
    "            # print(\"\\nDone\")\n",
    "        except urllib.error.HTTPError:\n",
    "            missing.append(n)\n",
    "            print(f\"404: Nodeset {n} appears not to exist\")\n",
    "print(\"----\")\n",
    "# print(f\"Finished with the argument maps in {epname}\")\n",
    "print(\"==========\")"
   ]
  },
  {
   "cell_type": "markdown",
   "metadata": {},
   "source": [
    "## Run PAPA"
   ]
  },
  {
   "cell_type": "code",
   "execution_count": 5,
   "metadata": {},
   "outputs": [],
   "source": [
    "from src import papa"
   ]
  },
  {
   "cell_type": "code",
   "execution_count": 7,
   "metadata": {},
   "outputs": [
    {
     "name": "stdout",
     "output_type": "stream",
     "text": [
      "{'HFC': {'ra_count': 0, 'ca_count': 0, 'ma_count': 2}, '1cb7d2c3c5a38fe76a5454cfeb04aca77d7a7542': {'ra_count': 6, 'ca_count': 0, 'ma_count': 0}}\n",
      "ya_type[0]: Asserting\n",
      "intro_yas[1cb7d2c3c5a38fe76a5454cfeb04aca77d7a7542]: {}\n",
      "Starting at 1\n",
      "ya_type[0]: Asserting\n",
      "intro_yas[1cb7d2c3c5a38fe76a5454cfeb04aca77d7a7542]: {'Asserting': 1}\n",
      "Now at a count of  2\n",
      "ya_type[0]: Asserting\n",
      "intro_yas[1cb7d2c3c5a38fe76a5454cfeb04aca77d7a7542]: {'Asserting': 2}\n",
      "Now at a count of  3\n",
      "ya_type[0]: Asserting\n",
      "intro_yas[1cb7d2c3c5a38fe76a5454cfeb04aca77d7a7542]: {'Asserting': 3}\n",
      "Now at a count of  4\n",
      "ya_type[0]: Asserting\n",
      "intro_yas[1cb7d2c3c5a38fe76a5454cfeb04aca77d7a7542]: {'Asserting': 4}\n",
      "Now at a count of  5\n",
      "ya_type[0]: Asserting\n",
      "intro_yas[1cb7d2c3c5a38fe76a5454cfeb04aca77d7a7542]: {'Asserting': 5}\n",
      "Now at a count of  6\n",
      "Disconnected I-node \n",
      "Disconnected I-node \n",
      "Disconnected I-node \n",
      "Disconnected I-node \n",
      "Disconnected I-node \n",
      "Disconnected I-node \n",
      "Disconnected I-node \n",
      "Disconnected I-node \n",
      "Disconnected I-node \n",
      "Disconnected I-node \n",
      "Disconnected I-node \n",
      "Disconnected I-node \n",
      "[[{'node id:': '1_8554957260962216725', 'word count:': 22}, {'node id:': '10_8554957260962216725', 'word count:': 19}, {'node id:': '14_8554957260962216725', 'word count:': 20}, {'node id:': '24_8554957260962216725', 'word count:': 21}, {'node id:': '32_8554957260962216725', 'word count:': 21}, {'node id:': '58_169471181069383003', 'word count:': 30}, {'node id:': '90_169471181069383003', 'word count:': 14}, {'node id:': '95_169471181069383003', 'word count:': 12}, {'node id:': '114_169471181069383003', 'word count:': 22}]]\n",
      "{'AIF': {'nodes': [{'nodeID': '1_8554957260962216725', 'text': \"Algeria's Prime Minister Noureddine Bedoui will or will not experience a significant leadership disruption between 2 May 2019 and 31 August 2019\", 'type': 'I'}, {'nodeID': '2_8554957260962216725', 'text': \"HFC: Will Algeria's Prime Minister Noureddine Bedoui experience a significant leadership disruption between 2 May 2019 and 31 August 2019\", 'type': 'L'}, {'nodeID': '3_8554957260962216725', 'text': 'Pure Questioning', 'type': 'YA'}, {'nodeID': '6_8554957260962216725', 'text': 'HFC: Yes or No', 'type': 'L'}, {'nodeID': '8_8554957260962216725', 'text': 'Default Transition', 'type': 'TA'}, {'nodeID': '9_8554957260962216725', 'text': 'Hypothesising', 'type': 'YA'}, {'nodeID': '10_8554957260962216725', 'text': \"Algeria's Prime Minister Noureddine Bedoui will experience a significant leadership disruption between 2 May 2019 and 31 August 2019\", 'type': 'I'}, {'nodeID': '11_8554957260962216725', 'text': 'Default Rephrase', 'type': 'MA'}, {'nodeID': '12_8554957260962216725', 'text': 'Default Illocuting', 'type': 'YA'}, {'nodeID': '13_8554957260962216725', 'text': 'Hypothesising', 'type': 'YA'}, {'nodeID': '14_8554957260962216725', 'text': \"Algeria's Prime Minister Noureddine Bedoui will not experience a significant leadership disruption between 2 May 2019 and 31 August 2019\", 'type': 'I'}, {'nodeID': '15_8554957260962216725', 'text': 'Default Rephrase', 'type': 'MA'}, {'nodeID': '16_8554957260962216725', 'text': 'Default Illocuting', 'type': 'YA'}, {'nodeID': '17_8554957260962216725', 'text': 'Default Conflict', 'type': 'CA'}, {'nodeID': '18_8554957260962216725', 'text': 'Alternative Giving', 'type': 'YA'}, {'nodeID': '19_8554957260962216725', 'text': 'Default Conflict', 'type': 'CA'}, {'nodeID': '20_8554957260962216725', 'text': 'Alternative Giving', 'type': 'YA'}, {'nodeID': '21_8554957260962216725', 'text': '1cb7d2c3c5a38fe76a5454cfeb04aca77d7a7542: Yes, 0.77 probability', 'type': 'L'}, {'nodeID': '23_8554957260962216725', 'text': 'Default Transition', 'type': 'TA'}, {'nodeID': '24_8554957260962216725', 'text': \"Algeria's Prime Minister Noureddine Bedoui will experience a significant leadership disruption between 2 May 2019 and 31 August 2019, 0.77 probability\", 'type': 'I'}, {'nodeID': '25_8554957260962216725', 'text': 'Asserting', 'type': 'YA'}, {'nodeID': '27_8554957260962216725', 'text': 'Evaluation', 'type': 'MA'}, {'nodeID': '28_8554957260962216725', 'text': 'Evaluating', 'type': 'YA'}, {'nodeID': '29_8554957260962216725', 'text': '1cb7d2c3c5a38fe76a5454cfeb04aca77d7a7542: No, 0.22999999999999998 probability', 'type': 'L'}, {'nodeID': '32_8554957260962216725', 'text': \"Algeria's Prime MInister Noureddine Bedoui will not experience a significant leadership disruption between 2 May 2019 and 31 August, 0.22999999999999998 probability\", 'type': 'I'}, {'nodeID': '33_8554957260962216725', 'text': 'Asserting', 'type': 'YA'}, {'nodeID': '35_8554957260962216725', 'text': 'Evaluation', 'type': 'MA'}, {'nodeID': '36_8554957260962216725', 'text': 'Evaluating', 'type': 'YA'}, {'nodeID': '58_169471181069383003', 'text': \"it was a shock to the nation when General Gaïd Salah decided last week for the Constitutional Council to set in motion a process to end Mr. Bouteflika's 20-year presidency\", 'type': 'I'}, {'nodeID': '59_169471181069383003', 'text': \"1cb7d2c3c5a38fe76a5454cfeb04aca77d7a7542 : It was a shock to the nation when General Gaïd Salah decided last week for the Constitutional Council to set in motion a process to end Mr. Bouteflika's 20-year presidency\", 'type': 'L'}, {'nodeID': '90_169471181069383003', 'text': ' there have been relentless mass protests across weeks with further support from the army', 'type': 'I'}, {'nodeID': '91_169471181069383003', 'text': '1cb7d2c3c5a38fe76a5454cfeb04aca77d7a7542 :  The relentless mass protests across weeks with further support from the army', 'type': 'L'}, {'nodeID': '94_169471181069383003', 'text': 'Asserting', 'type': 'YA'}, {'nodeID': '95_169471181069383003', 'text': 'there is a lot of pressure on the president to resign soon', 'type': 'I'}, {'nodeID': '96_169471181069383003', 'text': '1cb7d2c3c5a38fe76a5454cfeb04aca77d7a7542 : has put much pressure on the president to resign soon', 'type': 'L'}, {'nodeID': '99_169471181069383003', 'text': 'Asserting', 'type': 'YA'}, {'nodeID': '100_169471181069383003', 'text': 'Default Transition', 'type': 'TA'}, {'nodeID': '102_169471181069383003', 'text': 'Default Inference', 'type': 'RA'}, {'nodeID': '103_169471181069383003', 'text': 'Arguing', 'type': 'YA'}, {'nodeID': '109_169471181069383003', 'text': 'Default Transition', 'type': 'TA'}, {'nodeID': '4_169471531090951712', 'text': 'Asserting', 'type': 'YA'}, {'nodeID': '114_169471181069383003', 'text': \"the process to end Mr Bouteflika's 20-year presidency being set into motion is a strong indication that the president will resign soon\", 'type': 'I'}, {'nodeID': '115_169471181069383003', 'text': '1cb7d2c3c5a38fe76a5454cfeb04aca77d7a7542 : This is a strong indication that president will resign soon', 'type': 'L'}, {'nodeID': '118_169471181069383003', 'text': 'Asserting', 'type': 'YA'}, {'nodeID': '119_169471181069383003', 'text': 'Default Transition', 'type': 'TA'}, {'nodeID': '120_169471181069383003', 'text': 'Default Inference', 'type': 'RA'}, {'nodeID': '121_169471181069383003', 'text': 'Arguing', 'type': 'YA'}, {'nodeID': '123_169471181069383003', 'text': 'Default Inference', 'type': 'RA'}, {'nodeID': '124_169471181069383003', 'text': 'Default Inference', 'type': 'RA'}, {'nodeID': '126_169471181069383003', 'text': 'Arguing', 'type': 'YA'}, {'nodeID': '127_169471181069383003', 'text': 'Arguing', 'type': 'YA'}, {'nodeID': '128_169471181069383003', 'text': 'Default Inference', 'type': 'RA'}, {'nodeID': '132_169471181069383003', 'text': 'Arguing', 'type': 'YA'}, {'nodeID': '133_169471181069383003', 'text': 'Default Inference', 'type': 'RA'}, {'nodeID': '135_169471181069383003', 'text': 'Arguing', 'type': 'YA'}], 'edges': [{'edgeID': 1, 'fromID': '2_8554957260962216725', 'toID': '3_8554957260962216725'}, {'edgeID': 2, 'fromID': '3_8554957260962216725', 'toID': '1_8554957260962216725'}, {'edgeID': 4, 'fromID': '2_8554957260962216725', 'toID': '8_8554957260962216725'}, {'edgeID': 5, 'fromID': '8_8554957260962216725', 'toID': '6_8554957260962216725'}, {'edgeID': 6, 'fromID': '8_8554957260962216725', 'toID': '9_8554957260962216725'}, {'edgeID': 7, 'fromID': '9_8554957260962216725', 'toID': '10_8554957260962216725'}, {'edgeID': 8, 'fromID': '10_8554957260962216725', 'toID': '11_8554957260962216725'}, {'edgeID': 9, 'fromID': '11_8554957260962216725', 'toID': '1_8554957260962216725'}, {'edgeID': 10, 'fromID': '8_8554957260962216725', 'toID': '12_8554957260962216725'}, {'edgeID': 11, 'fromID': '12_8554957260962216725', 'toID': '11_8554957260962216725'}, {'edgeID': 12, 'fromID': '8_8554957260962216725', 'toID': '13_8554957260962216725'}, {'edgeID': 13, 'fromID': '13_8554957260962216725', 'toID': '14_8554957260962216725'}, {'edgeID': 14, 'fromID': '14_8554957260962216725', 'toID': '15_8554957260962216725'}, {'edgeID': 15, 'fromID': '15_8554957260962216725', 'toID': '1_8554957260962216725'}, {'edgeID': 16, 'fromID': '8_8554957260962216725', 'toID': '16_8554957260962216725'}, {'edgeID': 17, 'fromID': '16_8554957260962216725', 'toID': '15_8554957260962216725'}, {'edgeID': 18, 'fromID': '10_8554957260962216725', 'toID': '17_8554957260962216725'}, {'edgeID': 19, 'fromID': '17_8554957260962216725', 'toID': '14_8554957260962216725'}, {'edgeID': 20, 'fromID': '6_8554957260962216725', 'toID': '18_8554957260962216725'}, {'edgeID': 21, 'fromID': '18_8554957260962216725', 'toID': '17_8554957260962216725'}, {'edgeID': 22, 'fromID': '14_8554957260962216725', 'toID': '19_8554957260962216725'}, {'edgeID': 23, 'fromID': '19_8554957260962216725', 'toID': '10_8554957260962216725'}, {'edgeID': 24, 'fromID': '6_8554957260962216725', 'toID': '20_8554957260962216725'}, {'edgeID': 25, 'fromID': '20_8554957260962216725', 'toID': '19_8554957260962216725'}, {'edgeID': 26, 'fromID': '6_8554957260962216725', 'toID': '23_8554957260962216725'}, {'edgeID': 27, 'fromID': '23_8554957260962216725', 'toID': '21_8554957260962216725'}, {'edgeID': 29, 'fromID': '21_8554957260962216725', 'toID': '25_8554957260962216725'}, {'edgeID': 30, 'fromID': '25_8554957260962216725', 'toID': '24_8554957260962216725'}, {'edgeID': 31, 'fromID': '24_8554957260962216725', 'toID': '27_8554957260962216725'}, {'edgeID': 32, 'fromID': '27_8554957260962216725', 'toID': '10_8554957260962216725'}, {'edgeID': 33, 'fromID': '21_8554957260962216725', 'toID': '28_8554957260962216725'}, {'edgeID': 34, 'fromID': '28_8554957260962216725', 'toID': '27_8554957260962216725'}, {'edgeID': 36, 'fromID': '29_8554957260962216725', 'toID': '33_8554957260962216725'}, {'edgeID': 37, 'fromID': '33_8554957260962216725', 'toID': '32_8554957260962216725'}, {'edgeID': 38, 'fromID': '32_8554957260962216725', 'toID': '35_8554957260962216725'}, {'edgeID': 39, 'fromID': '35_8554957260962216725', 'toID': '14_8554957260962216725'}, {'edgeID': 40, 'fromID': '29_8554957260962216725', 'toID': '36_8554957260962216725'}, {'edgeID': 41, 'fromID': '36_8554957260962216725', 'toID': '35_8554957260962216725'}, {'edgeID': 46, 'fromID': '91_169471181069383003', 'toID': '94_169471181069383003'}, {'edgeID': 47, 'fromID': '94_169471181069383003', 'toID': '90_169471181069383003'}, {'edgeID': 50, 'fromID': '96_169471181069383003', 'toID': '99_169471181069383003'}, {'edgeID': 51, 'fromID': '99_169471181069383003', 'toID': '95_169471181069383003'}, {'edgeID': 52, 'fromID': '91_169471181069383003', 'toID': '100_169471181069383003'}, {'edgeID': 53, 'fromID': '100_169471181069383003', 'toID': '96_169471181069383003'}, {'edgeID': 54, 'fromID': '90_169471181069383003', 'toID': '102_169471181069383003'}, {'edgeID': 55, 'fromID': '102_169471181069383003', 'toID': '95_169471181069383003'}, {'edgeID': 56, 'fromID': '100_169471181069383003', 'toID': '103_169471181069383003'}, {'edgeID': 57, 'fromID': '103_169471181069383003', 'toID': '102_169471181069383003'}, {'edgeID': 58, 'fromID': '96_169471181069383003', 'toID': '109_169471181069383003'}, {'edgeID': 59, 'fromID': '109_169471181069383003', 'toID': '59_169471181069383003'}, {'edgeID': 60, 'fromID': '21_8554957260962216725', 'toID': '100_169471181069383003'}, {'edgeID': 61, 'fromID': '59_169471181069383003', 'toID': '4_169471531090951712'}, {'edgeID': 62, 'fromID': '4_169471531090951712', 'toID': '58_169471181069383003'}, {'edgeID': 65, 'fromID': '115_169471181069383003', 'toID': '118_169471181069383003'}, {'edgeID': 66, 'fromID': '118_169471181069383003', 'toID': '114_169471181069383003'}, {'edgeID': 67, 'fromID': '59_169471181069383003', 'toID': '119_169471181069383003'}, {'edgeID': 68, 'fromID': '119_169471181069383003', 'toID': '115_169471181069383003'}, {'edgeID': 69, 'fromID': '58_169471181069383003', 'toID': '120_169471181069383003'}, {'edgeID': 70, 'fromID': '120_169471181069383003', 'toID': '114_169471181069383003'}, {'edgeID': 71, 'fromID': '119_169471181069383003', 'toID': '121_169471181069383003'}, {'edgeID': 72, 'fromID': '121_169471181069383003', 'toID': '120_169471181069383003'}, {'edgeID': 73, 'fromID': '95_169471181069383003', 'toID': '123_169471181069383003'}, {'edgeID': 74, 'fromID': '123_169471181069383003', 'toID': '24_8554957260962216725'}, {'edgeID': 75, 'fromID': '114_169471181069383003', 'toID': '124_169471181069383003'}, {'edgeID': 76, 'fromID': '124_169471181069383003', 'toID': '24_8554957260962216725'}, {'edgeID': 77, 'fromID': '21_8554957260962216725', 'toID': '119_169471181069383003'}, {'edgeID': 78, 'fromID': '119_169471181069383003', 'toID': '126_169471181069383003'}, {'edgeID': 79, 'fromID': '126_169471181069383003', 'toID': '124_169471181069383003'}, {'edgeID': 80, 'fromID': '100_169471181069383003', 'toID': '127_169471181069383003'}, {'edgeID': 81, 'fromID': '127_169471181069383003', 'toID': '123_169471181069383003'}, {'edgeID': 82, 'fromID': '95_169471181069383003', 'toID': '128_169471181069383003'}, {'edgeID': 83, 'fromID': '128_169471181069383003', 'toID': '32_8554957260962216725'}, {'edgeID': 84, 'fromID': '29_8554957260962216725', 'toID': '100_169471181069383003'}, {'edgeID': 85, 'fromID': '100_169471181069383003', 'toID': '132_169471181069383003'}, {'edgeID': 86, 'fromID': '132_169471181069383003', 'toID': '128_169471181069383003'}, {'edgeID': 87, 'fromID': '114_169471181069383003', 'toID': '133_169471181069383003'}, {'edgeID': 88, 'fromID': '133_169471181069383003', 'toID': '32_8554957260962216725'}, {'edgeID': 89, 'fromID': '29_8554957260962216725', 'toID': '119_169471181069383003'}, {'edgeID': 90, 'fromID': '119_169471181069383003', 'toID': '135_169471181069383003'}, {'edgeID': 91, 'fromID': '135_169471181069383003', 'toID': '133_169471181069383003'}], 'schemefulfillments': [{'nodeID': '3_8554957260962216725', 'schemeID': '91'}, {'nodeID': '5_8554957260962216725', 'schemeID': '75'}, {'nodeID': '8_8554957260962216725', 'schemeID': '82'}, {'nodeID': '9_8554957260962216725', 'schemeID': '410'}, {'nodeID': '11_8554957260962216725', 'schemeID': '144'}, {'nodeID': '12_8554957260962216725', 'schemeID': '168'}, {'nodeID': '13_8554957260962216725', 'schemeID': '410'}, {'nodeID': '15_8554957260962216725', 'schemeID': '144'}, {'nodeID': '16_8554957260962216725', 'schemeID': '168'}, {'nodeID': '17_8554957260962216725', 'schemeID': '71'}, {'nodeID': '18_8554957260962216725', 'schemeID': '483'}, {'nodeID': '19_8554957260962216725', 'schemeID': '71'}, {'nodeID': '20_8554957260962216725', 'schemeID': '483'}, {'nodeID': '23_8554957260962216725', 'schemeID': '82'}, {'nodeID': '25_8554957260962216725', 'schemeID': '74'}, {'nodeID': '26_8554957260962216725', 'schemeID': '75'}, {'nodeID': '27_8554957260962216725', 'schemeID': '481'}, {'nodeID': '28_8554957260962216725', 'schemeID': '482'}, {'nodeID': '33_8554957260962216725', 'schemeID': '74'}, {'nodeID': '34_8554957260962216725', 'schemeID': '75'}, {'nodeID': '35_8554957260962216725', 'schemeID': '481'}, {'nodeID': '36_8554957260962216725', 'schemeID': '482'}, {'nodeID': '60_169471181069383003', 'schemeID': '75'}, {'nodeID': '92_169471181069383003', 'schemeID': '75'}, {'nodeID': '94_169471181069383003', 'schemeID': '74'}, {'nodeID': '97_169471181069383003', 'schemeID': '75'}, {'nodeID': '99_169471181069383003', 'schemeID': '74'}, {'nodeID': '100_169471181069383003', 'schemeID': '82'}, {'nodeID': '102_169471181069383003', 'schemeID': '72'}, {'nodeID': '103_169471181069383003', 'schemeID': '80'}, {'nodeID': '109_169471181069383003', 'schemeID': '82'}, {'nodeID': '4_169471531090951712', 'schemeID': '74'}, {'nodeID': '116_169471181069383003', 'schemeID': '75'}, {'nodeID': '118_169471181069383003', 'schemeID': '74'}, {'nodeID': '119_169471181069383003', 'schemeID': '82'}, {'nodeID': '120_169471181069383003', 'schemeID': '72'}, {'nodeID': '121_169471181069383003', 'schemeID': '80'}, {'nodeID': '123_169471181069383003', 'schemeID': '72'}, {'nodeID': '124_169471181069383003', 'schemeID': '72'}, {'nodeID': '126_169471181069383003', 'schemeID': '80'}, {'nodeID': '127_169471181069383003', 'schemeID': '80'}, {'nodeID': '128_169471181069383003', 'schemeID': '72'}, {'nodeID': '132_169471181069383003', 'schemeID': '80'}, {'nodeID': '133_169471181069383003', 'schemeID': '72'}, {'nodeID': '135_169471181069383003', 'schemeID': '80'}], 'participants': [{'participantID': 1, 'firstname': 'Participant', 'surname': 'Rachel'}, {'participantID': 2, 'firstname': 'Participant', 'surname': 'Carolyn'}, {'participantID': 3, 'firstname': 'Participant', 'surname': 'Mo'}, {'participantID': 4, 'firstname': 'Participant', 'surname': 'Zoe'}, {'participantID': 5, 'firstname': 'Participant', 'surname': 'Claire'}, {'participantID': 6, 'firstname': 'Participant', 'surname': 'Lee'}, {'participantID': 7, 'firstname': 'Participant', 'surname': 'Sally'}, {'participantID': 8, 'firstname': 'Participant', 'surname': 'Kalbir'}, {'participantID': 9, 'firstname': 'Participant', 'surname': 'Alice'}, {'participantID': 10, 'firstname': 'Anne', 'surname': 'Robinson'}, {'participantID': 11, 'firstname': 'Diane', 'surname': 'Munday'}, {'participantID': 12, 'firstname': 'Neena', 'surname': 'Modi'}, {'participantID': 13, 'firstname': 'David', 'surname': 'Steel'}, {'participantID': 14, 'firstname': 'Neil', 'surname': 'Lyndon'}, {'participantID': 15, 'firstname': 'HFC', 'surname': ''}, {'participantID': 16, 'firstname': '1cb7d2c3c5a38fe76a5454cfeb04aca77d7a7542', 'surname': ''}, {'participantID': 17, 'firstname': 'NY', 'surname': 'Times'}], 'locutions': [{'nodeID': '59_169471181069383003', 'personID': '16', 'start': None, 'end': None}, {'nodeID': '91_169471181069383003', 'personID': '16', 'start': None, 'end': None}, {'nodeID': '96_169471181069383003', 'personID': '16', 'start': None, 'end': None}, {'nodeID': '115_169471181069383003', 'personID': '16', 'start': None, 'end': None}], 'descriptorfulfillments': [], 'cqdescriptorfulfillments': []}, 'text': 'Part ID:18016\\nHFC: <span id=\"node2_8554957260962216725\" class=\"highlighted\">Will Algeria\\'s Prime Minister Noureddine Bedoui experience a significant leadership disruption between 2 May 2019 and 31 August 2019</span>?\\nHFC: <span id=\"node6_8554957260962216725\" class=\"highlighted\">Yes or No</span>?\\n1cb7d2c3c5a38fe76a5454cfeb04aca77d7a7542: <span id=\"node21_8554957260962216725\" class=\"highlighted\">Yes, 0.77 probability</span>\\n1cb7d2c3c5a38fe76a5454cfeb04aca77d7a7542: <span id=\"node29_8554957260962216725\" class=\"highlighted\">No, 0.22999999999999998 probability</span>\\n[\\'1cb7d2c3c5a38fe76a5454cfeb04aca77d7a7542:<span id=\"node91_169471181069383003\" class=\"highlighted\"> The relentless mass protests across weeks with further support from the army</span> <span id=\"node96_169471181069383003\" class=\"highlighted\">has put much pressure on the president to resign soon</span>. \\', \\'\\', \"<span id=\"node59_169471181069383003\" class=\"highlighted\">It was a shock to the nation when General Gaïd Salah decided  last week for the Constitutional Council to set in motion a process to end Mr. Bouteflika\\'s 20-year presidency</span>. <span id=\"node115_169471181069383003\" class=\"highlighted\">This is a strong indication that president will resign soon</span>. \", \\'\\', \\'<a target=\"_blank\" href=\"https://www.nytimes.com/2019/03/31/world/africa/algeria-army-protest.html\">https://www.nytimes.com/2019/03/31/world/africa/algeria-army-protest.html</a>\\']', 'OVA': {'firstname': 'Anon', 'surname': 'User', 'url': '', 'nodes': [{'nodeID': '1_8554957260962216725', 'visible': True, 'x': 300, 'y': 60, 'timestamp': ''}, {'nodeID': '2_8554957260962216725', 'visible': True, 'x': 790, 'y': 60, 'timestamp': ''}, {'nodeID': '3_8554957260962216725', 'visible': True, 'x': 539, 'y': 80, 'timestamp': ''}, {'nodeID': '4_8554957260962216725', 'visible': False, 'x': 0, 'y': 0, 'timestamp': ''}, {'nodeID': '5_8554957260962216725', 'visible': False, 'x': 0, 'y': 0, 'timestamp': ''}, {'nodeID': '6_8554957260962216725', 'visible': True, 'x': 790, 'y': 260, 'timestamp': ''}, {'nodeID': '7_8554957260962216725', 'visible': False, 'x': 0, 'y': 0, 'timestamp': ''}, {'nodeID': '8_8554957260962216725', 'visible': True, 'x': 790, 'y': 160, 'timestamp': ''}, {'nodeID': '9_8554957260962216725', 'visible': True, 'x': 545, 'y': 240, 'timestamp': ''}, {'nodeID': '10_8554957260962216725', 'visible': True, 'x': 269, 'y': 225, 'timestamp': ''}, {'nodeID': '11_8554957260962216725', 'visible': True, 'x': 187, 'y': 179, 'timestamp': ''}, {'nodeID': '12_8554957260962216725', 'visible': True, 'x': 545, 'y': 160, 'timestamp': ''}, {'nodeID': '13_8554957260962216725', 'visible': True, 'x': 545, 'y': 420, 'timestamp': ''}, {'nodeID': '14_8554957260962216725', 'visible': True, 'x': 368, 'y': 419, 'timestamp': ''}, {'nodeID': '15_8554957260962216725', 'visible': True, 'x': 335, 'y': 348, 'timestamp': ''}, {'nodeID': '16_8554957260962216725', 'visible': True, 'x': 545, 'y': 340, 'timestamp': ''}, {'nodeID': '17_8554957260962216725', 'visible': True, 'x': 124, 'y': 283, 'timestamp': ''}, {'nodeID': '18_8554957260962216725', 'visible': True, 'x': 545, 'y': 280, 'timestamp': ''}, {'nodeID': '19_8554957260962216725', 'visible': True, 'x': 190, 'y': 440, 'timestamp': ''}, {'nodeID': '20_8554957260962216725', 'visible': True, 'x': 545, 'y': 460, 'timestamp': ''}, {'nodeID': '21_8554957260962216725', 'visible': True, 'x': 790, 'y': 600, 'timestamp': ''}, {'nodeID': '22_8554957260962216725', 'visible': False, 'x': 0, 'y': 0, 'timestamp': ''}, {'nodeID': '23_8554957260962216725', 'visible': True, 'x': 790, 'y': 520, 'timestamp': ''}, {'nodeID': '24_8554957260962216725', 'visible': True, 'x': 117, 'y': 578, 'timestamp': ''}, {'nodeID': '25_8554957260962216725', 'visible': True, 'x': 545, 'y': 600, 'timestamp': ''}, {'nodeID': '26_8554957260962216725', 'visible': False, 'x': 0, 'y': 0, 'timestamp': ''}, {'nodeID': '27_8554957260962216725', 'visible': True, 'x': 72, 'y': 506, 'timestamp': ''}, {'nodeID': '28_8554957260962216725', 'visible': True, 'x': 545, 'y': 520, 'timestamp': ''}, {'nodeID': '29_8554957260962216725', 'visible': True, 'x': 810, 'y': 718, 'timestamp': ''}, {'nodeID': '30_8554957260962216725', 'visible': False, 'x': 0, 'y': 0, 'timestamp': ''}, {'nodeID': '32_8554957260962216725', 'visible': True, 'x': 300, 'y': 722, 'timestamp': ''}, {'nodeID': '33_8554957260962216725', 'visible': True, 'x': 545, 'y': 757, 'timestamp': ''}, {'nodeID': '34_8554957260962216725', 'visible': False, 'x': 0, 'y': 0, 'timestamp': ''}, {'nodeID': '35_8554957260962216725', 'visible': True, 'x': 306, 'y': 655, 'timestamp': ''}, {'nodeID': '36_8554957260962216725', 'visible': True, 'x': 497, 'y': 687, 'timestamp': ''}, {'nodeID': '58_169471181069383003', 'visible': True, 'x': 287, 'y': 1086, 'timestamp': ''}, {'nodeID': '59_169471181069383003', 'visible': True, 'x': 842, 'y': 1086, 'timestamp': ''}, {'nodeID': '60_169471181069383003', 'visible': False, 'x': 0, 'y': 0, 'timestamp': ''}, {'nodeID': '61_169471181069383003', 'visible': False, 'x': 0, 'y': 0, 'timestamp': ''}, {'nodeID': '90_169471181069383003', 'visible': True, 'x': 323, 'y': 878, 'timestamp': ''}, {'nodeID': '91_169471181069383003', 'visible': True, 'x': 828, 'y': 868, 'timestamp': ''}, {'nodeID': '92_169471181069383003', 'visible': False, 'x': 0, 'y': 0, 'timestamp': ''}, {'nodeID': '93_169471181069383003', 'visible': False, 'x': 0, 'y': 0, 'timestamp': ''}, {'nodeID': '94_169471181069383003', 'visible': True, 'x': 579, 'y': 894, 'timestamp': ''}, {'nodeID': '95_169471181069383003', 'visible': True, 'x': 312, 'y': 986, 'timestamp': ''}, {'nodeID': '96_169471181069383003', 'visible': True, 'x': 794, 'y': 1002, 'timestamp': ''}, {'nodeID': '97_169471181069383003', 'visible': False, 'x': 0, 'y': 0, 'timestamp': ''}, {'nodeID': '98_169471181069383003', 'visible': False, 'x': 0, 'y': 0, 'timestamp': ''}, {'nodeID': '99_169471181069383003', 'visible': True, 'x': 478, 'y': 1015, 'timestamp': ''}, {'nodeID': '100_169471181069383003', 'visible': True, 'x': 1027, 'y': 934, 'timestamp': ''}, {'nodeID': '102_169471181069383003', 'visible': True, 'x': 300, 'y': 951, 'timestamp': ''}, {'nodeID': '103_169471181069383003', 'visible': True, 'x': 559, 'y': 969, 'timestamp': ''}, {'nodeID': '109_169471181069383003', 'visible': True, 'x': 820, 'y': 1051, 'timestamp': ''}, {'nodeID': '4_169471531090951712', 'visible': True, 'x': 564, 'y': 1128, 'timestamp': ''}, {'nodeID': '114_169471181069383003', 'visible': True, 'x': 287, 'y': 1208, 'timestamp': ''}, {'nodeID': '115_169471181069383003', 'visible': True, 'x': 843, 'y': 1251, 'timestamp': ''}, {'nodeID': '116_169471181069383003', 'visible': False, 'x': 0, 'y': 0, 'timestamp': ''}, {'nodeID': '117_169471181069383003', 'visible': False, 'x': 0, 'y': 0, 'timestamp': ''}, {'nodeID': '118_169471181069383003', 'visible': True, 'x': 615, 'y': 1233, 'timestamp': ''}, {'nodeID': '119_169471181069383003', 'visible': True, 'x': 1011, 'y': 1211, 'timestamp': ''}, {'nodeID': '120_169471181069383003', 'visible': True, 'x': 281, 'y': 1172, 'timestamp': ''}, {'nodeID': '121_169471181069383003', 'visible': True, 'x': 549, 'y': 1190, 'timestamp': ''}, {'nodeID': '123_169471181069383003', 'visible': True, 'x': 89, 'y': 905, 'timestamp': ''}, {'nodeID': '124_169471181069383003', 'visible': True, 'x': 88, 'y': 1143, 'timestamp': ''}, {'nodeID': '126_169471181069383003', 'visible': True, 'x': 621, 'y': 1156, 'timestamp': ''}, {'nodeID': '127_169471181069383003', 'visible': True, 'x': 541, 'y': 918, 'timestamp': ''}, {'nodeID': '128_169471181069383003', 'visible': True, 'x': 194, 'y': 867, 'timestamp': ''}, {'nodeID': '132_169471181069383003', 'visible': True, 'x': 610, 'y': 847, 'timestamp': ''}, {'nodeID': '133_169471181069383003', 'visible': True, 'x': 155, 'y': 1073, 'timestamp': ''}, {'nodeID': '135_169471181069383003', 'visible': True, 'x': 575, 'y': 1086, 'timestamp': ''}], 'edges': [{'fromID': '2_8554957260962216725', 'toID': '3_8554957260962216725', 'visible': True}, {'fromID': '3_8554957260962216725', 'toID': '1_8554957260962216725', 'visible': True}, {'fromID': '4_8554957260962216725', 'toID': '5_8554957260962216725', 'visible': False}, {'fromID': '2_8554957260962216725', 'toID': '8_8554957260962216725', 'visible': True}, {'fromID': '8_8554957260962216725', 'toID': '6_8554957260962216725', 'visible': True}, {'fromID': '8_8554957260962216725', 'toID': '9_8554957260962216725', 'visible': True}, {'fromID': '9_8554957260962216725', 'toID': '10_8554957260962216725', 'visible': True}, {'fromID': '10_8554957260962216725', 'toID': '11_8554957260962216725', 'visible': True}, {'fromID': '11_8554957260962216725', 'toID': '1_8554957260962216725', 'visible': True}, {'fromID': '8_8554957260962216725', 'toID': '12_8554957260962216725', 'visible': True}, {'fromID': '12_8554957260962216725', 'toID': '11_8554957260962216725', 'visible': True}, {'fromID': '8_8554957260962216725', 'toID': '13_8554957260962216725', 'visible': True}, {'fromID': '13_8554957260962216725', 'toID': '14_8554957260962216725', 'visible': True}, {'fromID': '14_8554957260962216725', 'toID': '15_8554957260962216725', 'visible': True}, {'fromID': '15_8554957260962216725', 'toID': '1_8554957260962216725', 'visible': True}, {'fromID': '8_8554957260962216725', 'toID': '16_8554957260962216725', 'visible': True}, {'fromID': '16_8554957260962216725', 'toID': '15_8554957260962216725', 'visible': True}, {'fromID': '10_8554957260962216725', 'toID': '17_8554957260962216725', 'visible': True}, {'fromID': '17_8554957260962216725', 'toID': '14_8554957260962216725', 'visible': True}, {'fromID': '6_8554957260962216725', 'toID': '18_8554957260962216725', 'visible': True}, {'fromID': '18_8554957260962216725', 'toID': '17_8554957260962216725', 'visible': True}, {'fromID': '14_8554957260962216725', 'toID': '19_8554957260962216725', 'visible': True}, {'fromID': '19_8554957260962216725', 'toID': '10_8554957260962216725', 'visible': True}, {'fromID': '6_8554957260962216725', 'toID': '20_8554957260962216725', 'visible': True}, {'fromID': '20_8554957260962216725', 'toID': '19_8554957260962216725', 'visible': True}, {'fromID': '6_8554957260962216725', 'toID': '23_8554957260962216725', 'visible': True}, {'fromID': '23_8554957260962216725', 'toID': '21_8554957260962216725', 'visible': True}, {'fromID': '22_8554957260962216725', 'toID': '26_8554957260962216725', 'visible': False}, {'fromID': '21_8554957260962216725', 'toID': '25_8554957260962216725', 'visible': True}, {'fromID': '25_8554957260962216725', 'toID': '24_8554957260962216725', 'visible': True}, {'fromID': '24_8554957260962216725', 'toID': '27_8554957260962216725', 'visible': True}, {'fromID': '27_8554957260962216725', 'toID': '10_8554957260962216725', 'visible': True}, {'fromID': '21_8554957260962216725', 'toID': '28_8554957260962216725', 'visible': True}, {'fromID': '28_8554957260962216725', 'toID': '27_8554957260962216725', 'visible': True}, {'fromID': '30_8554957260962216725', 'toID': '34_8554957260962216725', 'visible': False}, {'fromID': '29_8554957260962216725', 'toID': '33_8554957260962216725', 'visible': True}, {'fromID': '33_8554957260962216725', 'toID': '32_8554957260962216725', 'visible': True}, {'fromID': '32_8554957260962216725', 'toID': '35_8554957260962216725', 'visible': True}, {'fromID': '35_8554957260962216725', 'toID': '14_8554957260962216725', 'visible': True}, {'fromID': '29_8554957260962216725', 'toID': '36_8554957260962216725', 'visible': True}, {'fromID': '36_8554957260962216725', 'toID': '35_8554957260962216725', 'visible': True}, {'fromID': '60_169471181069383003', 'toID': '59_169471181069383003', 'visible': False}, {'fromID': '61_169471181069383003', 'toID': '60_169471181069383003', 'visible': False}, {'fromID': '92_169471181069383003', 'toID': '91_169471181069383003', 'visible': False}, {'fromID': '93_169471181069383003', 'toID': '92_169471181069383003', 'visible': False}, {'fromID': '91_169471181069383003', 'toID': '94_169471181069383003', 'visible': True}, {'fromID': '94_169471181069383003', 'toID': '90_169471181069383003', 'visible': True}, {'fromID': '97_169471181069383003', 'toID': '96_169471181069383003', 'visible': False}, {'fromID': '98_169471181069383003', 'toID': '97_169471181069383003', 'visible': False}, {'fromID': '96_169471181069383003', 'toID': '99_169471181069383003', 'visible': True}, {'fromID': '99_169471181069383003', 'toID': '95_169471181069383003', 'visible': True}, {'fromID': '91_169471181069383003', 'toID': '100_169471181069383003', 'visible': True}, {'fromID': '100_169471181069383003', 'toID': '96_169471181069383003', 'visible': True}, {'fromID': '90_169471181069383003', 'toID': '102_169471181069383003', 'visible': True}, {'fromID': '102_169471181069383003', 'toID': '95_169471181069383003', 'visible': True}, {'fromID': '100_169471181069383003', 'toID': '103_169471181069383003', 'visible': True}, {'fromID': '103_169471181069383003', 'toID': '102_169471181069383003', 'visible': True}, {'fromID': '96_169471181069383003', 'toID': '109_169471181069383003', 'visible': True}, {'fromID': '109_169471181069383003', 'toID': '59_169471181069383003', 'visible': True}, {'fromID': '21_8554957260962216725', 'toID': '100_169471181069383003', 'visible': True}, {'fromID': '59_169471181069383003', 'toID': '4_169471531090951712', 'visible': True}, {'fromID': '4_169471531090951712', 'toID': '58_169471181069383003', 'visible': True}, {'fromID': '116_169471181069383003', 'toID': '115_169471181069383003', 'visible': False}, {'fromID': '117_169471181069383003', 'toID': '116_169471181069383003', 'visible': False}, {'fromID': '115_169471181069383003', 'toID': '118_169471181069383003', 'visible': True}, {'fromID': '118_169471181069383003', 'toID': '114_169471181069383003', 'visible': True}, {'fromID': '59_169471181069383003', 'toID': '119_169471181069383003', 'visible': True}, {'fromID': '119_169471181069383003', 'toID': '115_169471181069383003', 'visible': True}, {'fromID': '58_169471181069383003', 'toID': '120_169471181069383003', 'visible': True}, {'fromID': '120_169471181069383003', 'toID': '114_169471181069383003', 'visible': True}, {'fromID': '119_169471181069383003', 'toID': '121_169471181069383003', 'visible': True}, {'fromID': '121_169471181069383003', 'toID': '120_169471181069383003', 'visible': True}, {'fromID': '95_169471181069383003', 'toID': '123_169471181069383003', 'visible': True}, {'fromID': '123_169471181069383003', 'toID': '24_8554957260962216725', 'visible': True}, {'fromID': '114_169471181069383003', 'toID': '124_169471181069383003', 'visible': True}, {'fromID': '124_169471181069383003', 'toID': '24_8554957260962216725', 'visible': True}, {'fromID': '21_8554957260962216725', 'toID': '119_169471181069383003', 'visible': True}, {'fromID': '119_169471181069383003', 'toID': '126_169471181069383003', 'visible': True}, {'fromID': '126_169471181069383003', 'toID': '124_169471181069383003', 'visible': True}, {'fromID': '100_169471181069383003', 'toID': '127_169471181069383003', 'visible': True}, {'fromID': '127_169471181069383003', 'toID': '123_169471181069383003', 'visible': True}, {'fromID': '95_169471181069383003', 'toID': '128_169471181069383003', 'visible': True}, {'fromID': '128_169471181069383003', 'toID': '32_8554957260962216725', 'visible': True}, {'fromID': '29_8554957260962216725', 'toID': '100_169471181069383003', 'visible': True}, {'fromID': '100_169471181069383003', 'toID': '132_169471181069383003', 'visible': True}, {'fromID': '132_169471181069383003', 'toID': '128_169471181069383003', 'visible': True}, {'fromID': '114_169471181069383003', 'toID': '133_169471181069383003', 'visible': True}, {'fromID': '133_169471181069383003', 'toID': '32_8554957260962216725', 'visible': True}, {'fromID': '29_8554957260962216725', 'toID': '119_169471181069383003', 'visible': True}, {'fromID': '119_169471181069383003', 'toID': '135_169471181069383003', 'visible': True}, {'fromID': '135_169471181069383003', 'toID': '133_169471181069383003', 'visible': True}]}, 'analytics': {'speaker': {'HFC': {'ra_count': 0, 'ca_count': 0, 'ma_count': 2, 'ra_serial_count': 0, 'ra_serial_perc': 0.0, 'ra_convergent_count': 0, 'ra_convergent_perc': 0.0, 'ra_divergent_count': 0, 'ra_divergent_perc': 0.0, 'ra_linked_count': 0, 'ra_linked_perc': 0.0, 'arg_depths': [], 'avg_arg_depth': 0, 'arg_breadths': [], 'avg_arg_breadth': 0, 'arg_intros': {'RA': {}, 'CA': {}, 'MA': {}}, 'direct_args_from_others': 0, 'indirect_args_from_others': 0}, '1cb7d2c3c5a38fe76a5454cfeb04aca77d7a7542': {'ra_count': 6, 'ca_count': 0, 'ma_count': 0, 'ra_serial_count': 6, 'ra_serial_perc': 1.0, 'ra_convergent_count': 4, 'ra_convergent_perc': 0.6666666666666666, 'ra_divergent_count': 4, 'ra_divergent_perc': 0.6666666666666666, 'ra_linked_count': 0, 'ra_linked_perc': 0.0, 'arg_depths': [2, 2, 2, 2], 'avg_arg_depth': 2.0, 'arg_breadths': [2, 2, 1, 1], 'avg_arg_breadth': 1.5, 'arg_intros': {'RA': {'Asserting': 6}, 'CA': {}, 'MA': {}}, 'direct_args_from_others': 0, 'indirect_args_from_others': 4}}, 'node': [[{'node id:': '1_8554957260962216725', 'word count:': 22}, {'node id:': '10_8554957260962216725', 'word count:': 19}, {'node id:': '14_8554957260962216725', 'word count:': 20}, {'node id:': '24_8554957260962216725', 'word count:': 21}, {'node id:': '32_8554957260962216725', 'word count:': 21}, {'node id:': '58_169471181069383003', 'word count:': 30}, {'node id:': '90_169471181069383003', 'word count:': 14}, {'node id:': '95_169471181069383003', 'word count:': 12}, {'node id:': '114_169471181069383003', 'word count:': 22}]]}}\n"
     ]
    }
   ],
   "source": [
    "directory = \"data/forecast_test\"\n",
    "\n",
    "for mapfile in os.listdir(directory):\n",
    "    file = os.path.join(directory,mapfile)\n",
    "\n",
    "    with open (file, 'r') as jsonfile:\n",
    "        map = json.load(jsonfile)\n",
    "\n",
    "\n",
    "        analytics_aif = papa.all_analytics(map, True, True)\n",
    "\n",
    "        outfile = open(\"output/\"+mapfile, \"w\")\n",
    "        json.dump(analytics_aif, outfile)"
   ]
  },
  {
   "cell_type": "code",
   "execution_count": null,
   "metadata": {},
   "outputs": [],
   "source": []
  }
 ],
 "metadata": {
  "kernelspec": {
   "display_name": "Python 3",
   "language": "python",
   "name": "python3"
  },
  "language_info": {
   "codemirror_mode": {
    "name": "ipython",
    "version": 3
   },
   "file_extension": ".py",
   "mimetype": "text/x-python",
   "name": "python",
   "nbconvert_exporter": "python",
   "pygments_lexer": "ipython3",
   "version": "3.12.5"
  }
 },
 "nbformat": 4,
 "nbformat_minor": 2
}
